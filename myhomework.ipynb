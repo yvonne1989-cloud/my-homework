{
 "cells": [
  {
   "cell_type": "markdown",
   "id": "880fb33d",
   "metadata": {},
   "source": [
    "My Jupyter Notebook on IBM Watson Studio"
   ]
  },
  {
   "cell_type": "markdown",
   "id": "c488d0c3",
   "metadata": {},
   "source": [
    "**徐睿**\n",
    "\n",
    "<font face=regular font>Data Analyst</font>"
   ]
  },
  {
   "cell_type": "markdown",
   "id": "96c7cfb7",
   "metadata": {},
   "source": [
    "- Data science can liberate me from the repetitive work\n",
    "- Also,can give me more ideas to solve the problems."
   ]
  },
  {
   "cell_type": "markdown",
   "id": "96251e85",
   "metadata": {},
   "source": [
    " print your number"
   ]
  },
  {
   "cell_type": "code",
   "execution_count": 1,
   "id": "0b01d25e",
   "metadata": {},
   "outputs": [
    {
     "name": "stdout",
     "output_type": "stream",
     "text": [
      "please give me a number 3.7\n",
      "your number is 3.7\n"
     ]
    }
   ],
   "source": [
    "a= input(\"please give me a number \")\n",
    "print(\"your number is %s\"%a)"
   ]
  },
  {
   "cell_type": "markdown",
   "id": "ed371e62",
   "metadata": {},
   "source": [
    "- My notebook\n",
    "    - <mark>AutoAI features</mark>\n",
    "        - Date preparation\n",
    "        - Model development\n",
    "        - Feature engineering\n",
    "        - Hpyer-parameter optimization\n",
    "\n",
    "[AutoAI feature comparison][https://dataplatform.cloud.ibm.com/docs/content/wsj/analyze-data/autoai-feature-compare.html?locale=en]\n",
    "\n",
    "|    Feature or option  | Single data source |\n",
    "| ----------- | ----------- |\n",
    "| Max number of data files     | 1      |\n",
    "| Training data limits   | 1GB        |"
   ]
  }
 ],
 "metadata": {
  "kernelspec": {
   "display_name": "Python 3 (ipykernel)",
   "language": "python",
   "name": "python3"
  },
  "language_info": {
   "codemirror_mode": {
    "name": "ipython",
    "version": 3
   },
   "file_extension": ".py",
   "mimetype": "text/x-python",
   "name": "python",
   "nbconvert_exporter": "python",
   "pygments_lexer": "ipython3",
   "version": "3.9.12"
  },
  "toc": {
   "base_numbering": 1,
   "nav_menu": {},
   "number_sections": true,
   "sideBar": true,
   "skip_h1_title": false,
   "title_cell": "Table of Contents",
   "title_sidebar": "Contents",
   "toc_cell": false,
   "toc_position": {},
   "toc_section_display": true,
   "toc_window_display": false
  }
 },
 "nbformat": 4,
 "nbformat_minor": 5
}
